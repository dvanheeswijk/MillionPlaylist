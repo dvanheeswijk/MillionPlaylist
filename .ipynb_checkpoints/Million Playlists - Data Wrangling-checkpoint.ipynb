{
 "cells": [
  {
   "cell_type": "markdown",
   "metadata": {},
   "source": [
    "# Spotify Million Playlist Project\n",
    "\n",
    "For this project, I will look into the [AI Crowd - Spotify Million Playlist Dataset Challenge](https://www.aicrowd.com/challenges/spotify-million-playlist-dataset-challenge). If you are interested in checking out the dataset yourself, the instructions on how to download are on the link above.\n",
    "\n",
    "My version of the project will take 100,000 playlists from the list and attempt to explore them to find interesting insights. Afterwards, I will attempt to create a recommendation set of songs for some given playlists, based on how many songs they have and what songs are already in them.\n",
    "\n",
    "To start, we will bring in the necessary libraries and load our data into the dataframe *df*."
   ]
  },
  {
   "cell_type": "code",
   "execution_count": 2,
   "metadata": {},
   "outputs": [],
   "source": [
    "import pandas as pd\n",
    "import numpy as np\n",
    "import matplotlib.pyplot as plt\n",
    "import seaborn as sns\n",
    "\n",
    "from zipfile import ZipFile\n",
    "from urllib.request import urlopen   \n",
    "from io import BytesIO\n",
    "import json\n",
    "import os\n",
    "import glob"
   ]
  },
  {
   "cell_type": "code",
   "execution_count": 3,
   "metadata": {},
   "outputs": [],
   "source": [
    "path_to_json = 'data/' \n",
    "\n",
    "json_pattern = os.path.join(path_to_json,'*.json')\n",
    "file_list = glob.glob(json_pattern)"
   ]
  },
  {
   "cell_type": "code",
   "execution_count": 4,
   "metadata": {},
   "outputs": [],
   "source": [
    "temp = []\n",
    "\n",
    "for file in file_list[:100]:\n",
    "    data = json.load(open(file))\n",
    "    temp.append(data['playlists'])"
   ]
  },
  {
   "cell_type": "code",
   "execution_count": 5,
   "metadata": {},
   "outputs": [],
   "source": [
    "df0 = pd.DataFrame(temp[0])"
   ]
  },
  {
   "cell_type": "code",
   "execution_count": 6,
   "metadata": {},
   "outputs": [
    {
     "name": "stdout",
     "output_type": "stream",
     "text": [
      "<class 'pandas.core.frame.DataFrame'>\n",
      "RangeIndex: 100000 entries, 0 to 99999\n",
      "Data columns (total 12 columns):\n",
      " #   Column         Non-Null Count   Dtype \n",
      "---  ------         --------------   ----- \n",
      " 0   name           100000 non-null  object\n",
      " 1   collaborative  100000 non-null  object\n",
      " 2   pid            100000 non-null  int64 \n",
      " 3   modified_at    100000 non-null  int64 \n",
      " 4   num_tracks     100000 non-null  int64 \n",
      " 5   num_albums     100000 non-null  int64 \n",
      " 6   num_followers  100000 non-null  int64 \n",
      " 7   tracks         100000 non-null  object\n",
      " 8   num_edits      100000 non-null  int64 \n",
      " 9   duration_ms    100000 non-null  int64 \n",
      " 10  num_artists    100000 non-null  int64 \n",
      " 11  description    1796 non-null    object\n",
      "dtypes: int64(8), object(4)\n",
      "memory usage: 9.2+ MB\n"
     ]
    }
   ],
   "source": [
    "df = df0\n",
    "for item in temp[1:]:\n",
    "    df_temp = pd.DataFrame(item)\n",
    "    df =pd.concat([df, df_temp], ignore_index=True)\n",
    "\n",
    "df.info()"
   ]
  },
  {
   "cell_type": "code",
   "execution_count": 7,
   "metadata": {},
   "outputs": [
    {
     "data": {
      "text/html": [
       "<div>\n",
       "<style scoped>\n",
       "    .dataframe tbody tr th:only-of-type {\n",
       "        vertical-align: middle;\n",
       "    }\n",
       "\n",
       "    .dataframe tbody tr th {\n",
       "        vertical-align: top;\n",
       "    }\n",
       "\n",
       "    .dataframe thead th {\n",
       "        text-align: right;\n",
       "    }\n",
       "</style>\n",
       "<table border=\"1\" class=\"dataframe\">\n",
       "  <thead>\n",
       "    <tr style=\"text-align: right;\">\n",
       "      <th></th>\n",
       "      <th>name</th>\n",
       "      <th>collaborative</th>\n",
       "      <th>pid</th>\n",
       "      <th>modified_at</th>\n",
       "      <th>num_tracks</th>\n",
       "      <th>num_albums</th>\n",
       "      <th>num_followers</th>\n",
       "      <th>tracks</th>\n",
       "      <th>num_edits</th>\n",
       "      <th>duration_ms</th>\n",
       "      <th>num_artists</th>\n",
       "      <th>description</th>\n",
       "    </tr>\n",
       "  </thead>\n",
       "  <tbody>\n",
       "    <tr>\n",
       "      <th>0</th>\n",
       "      <td>Throwbacks</td>\n",
       "      <td>false</td>\n",
       "      <td>0</td>\n",
       "      <td>1493424000</td>\n",
       "      <td>52</td>\n",
       "      <td>47</td>\n",
       "      <td>1</td>\n",
       "      <td>[{'pos': 0, 'artist_name': 'Missy Elliott', 't...</td>\n",
       "      <td>6</td>\n",
       "      <td>11532414</td>\n",
       "      <td>37</td>\n",
       "      <td>NaN</td>\n",
       "    </tr>\n",
       "    <tr>\n",
       "      <th>1</th>\n",
       "      <td>Awesome Playlist</td>\n",
       "      <td>false</td>\n",
       "      <td>1</td>\n",
       "      <td>1506556800</td>\n",
       "      <td>39</td>\n",
       "      <td>23</td>\n",
       "      <td>1</td>\n",
       "      <td>[{'pos': 0, 'artist_name': 'Survivor', 'track_...</td>\n",
       "      <td>5</td>\n",
       "      <td>11656470</td>\n",
       "      <td>21</td>\n",
       "      <td>NaN</td>\n",
       "    </tr>\n",
       "    <tr>\n",
       "      <th>2</th>\n",
       "      <td>korean</td>\n",
       "      <td>false</td>\n",
       "      <td>2</td>\n",
       "      <td>1505692800</td>\n",
       "      <td>64</td>\n",
       "      <td>51</td>\n",
       "      <td>1</td>\n",
       "      <td>[{'pos': 0, 'artist_name': 'Hoody', 'track_uri...</td>\n",
       "      <td>18</td>\n",
       "      <td>14039958</td>\n",
       "      <td>31</td>\n",
       "      <td>NaN</td>\n",
       "    </tr>\n",
       "    <tr>\n",
       "      <th>3</th>\n",
       "      <td>mat</td>\n",
       "      <td>false</td>\n",
       "      <td>3</td>\n",
       "      <td>1501027200</td>\n",
       "      <td>126</td>\n",
       "      <td>107</td>\n",
       "      <td>1</td>\n",
       "      <td>[{'pos': 0, 'artist_name': 'Camille Saint-Saën...</td>\n",
       "      <td>4</td>\n",
       "      <td>28926058</td>\n",
       "      <td>86</td>\n",
       "      <td>NaN</td>\n",
       "    </tr>\n",
       "    <tr>\n",
       "      <th>4</th>\n",
       "      <td>90s</td>\n",
       "      <td>false</td>\n",
       "      <td>4</td>\n",
       "      <td>1401667200</td>\n",
       "      <td>17</td>\n",
       "      <td>16</td>\n",
       "      <td>2</td>\n",
       "      <td>[{'pos': 0, 'artist_name': 'The Smashing Pumpk...</td>\n",
       "      <td>7</td>\n",
       "      <td>4335282</td>\n",
       "      <td>16</td>\n",
       "      <td>NaN</td>\n",
       "    </tr>\n",
       "  </tbody>\n",
       "</table>\n",
       "</div>"
      ],
      "text/plain": [
       "               name collaborative  pid  modified_at  num_tracks  num_albums  \\\n",
       "0        Throwbacks         false    0   1493424000          52          47   \n",
       "1  Awesome Playlist         false    1   1506556800          39          23   \n",
       "2           korean          false    2   1505692800          64          51   \n",
       "3               mat         false    3   1501027200         126         107   \n",
       "4               90s         false    4   1401667200          17          16   \n",
       "\n",
       "   num_followers                                             tracks  \\\n",
       "0              1  [{'pos': 0, 'artist_name': 'Missy Elliott', 't...   \n",
       "1              1  [{'pos': 0, 'artist_name': 'Survivor', 'track_...   \n",
       "2              1  [{'pos': 0, 'artist_name': 'Hoody', 'track_uri...   \n",
       "3              1  [{'pos': 0, 'artist_name': 'Camille Saint-Saën...   \n",
       "4              2  [{'pos': 0, 'artist_name': 'The Smashing Pumpk...   \n",
       "\n",
       "   num_edits  duration_ms  num_artists description  \n",
       "0          6     11532414           37         NaN  \n",
       "1          5     11656470           21         NaN  \n",
       "2         18     14039958           31         NaN  \n",
       "3          4     28926058           86         NaN  \n",
       "4          7      4335282           16         NaN  "
      ]
     },
     "execution_count": 7,
     "metadata": {},
     "output_type": "execute_result"
    }
   ],
   "source": [
    "df.head()"
   ]
  },
  {
   "cell_type": "markdown",
   "metadata": {},
   "source": [
    "Now that we have the data loaded, let's take a look and see what we can gather in regards to insights. First off, we notice that the description column is the only column missing data. We can look into this column and see if there is anything worth keeping, or if the column is missing too much data to be useful."
   ]
  },
  {
   "cell_type": "code",
   "execution_count": 8,
   "metadata": {},
   "outputs": [
    {
     "data": {
      "text/plain": [
       "94                                  chilllll out\n",
       "102                                          uzi\n",
       "320                           sit back and chill\n",
       "329                            el espanish trap.\n",
       "339             roasty toasty in the holy ghosty\n",
       "353                           Always thinking...\n",
       "354    What I listen to crusing on my motorcycle\n",
       "370                               merry chrysler\n",
       "475                                          sad\n",
       "491                   A little bit of everything\n",
       "Name: description, dtype: object"
      ]
     },
     "execution_count": 8,
     "metadata": {},
     "output_type": "execute_result"
    }
   ],
   "source": [
    "df[df['description'].notnull()]['description'].head(10)"
   ]
  },
  {
   "cell_type": "markdown",
   "metadata": {},
   "source": [
    "Just looking at the first 10 entries that are not null shows that there is some information about the purpose of each playlist. "
   ]
  },
  {
   "cell_type": "code",
   "execution_count": null,
   "metadata": {},
   "outputs": [],
   "source": []
  },
  {
   "cell_type": "code",
   "execution_count": null,
   "metadata": {},
   "outputs": [],
   "source": []
  },
  {
   "cell_type": "code",
   "execution_count": 9,
   "metadata": {},
   "outputs": [],
   "source": [
    "artists = [item.get('artist_name') for i in df['tracks'] for item in i]\n",
    "tracks = [str(item.get('artist_name'))+': '+str(item.get('track_name')) for i in df['tracks'] for item in i]"
   ]
  },
  {
   "cell_type": "code",
   "execution_count": 10,
   "metadata": {},
   "outputs": [
    {
     "data": {
      "text/plain": [
       "['Missy Elliott: Lose Control (feat. Ciara & Fat Man Scoop)',\n",
       " 'Britney Spears: Toxic',\n",
       " 'Beyoncé: Crazy In Love',\n",
       " 'Justin Timberlake: Rock Your Body',\n",
       " \"Shaggy: It Wasn't Me\",\n",
       " 'Usher: Yeah!',\n",
       " 'Usher: My Boo',\n",
       " 'The Pussycat Dolls: Buttons',\n",
       " \"Destiny's Child: Say My Name\",\n",
       " 'OutKast: Hey Ya! - Radio Mix / Club Mix']"
      ]
     },
     "execution_count": 10,
     "metadata": {},
     "output_type": "execute_result"
    }
   ],
   "source": [
    "tracks[:10]"
   ]
  },
  {
   "cell_type": "code",
   "execution_count": 11,
   "metadata": {},
   "outputs": [
    {
     "data": {
      "text/plain": [
       "['Missy Elliott',\n",
       " 'Britney Spears',\n",
       " 'Beyoncé',\n",
       " 'Justin Timberlake',\n",
       " 'Shaggy',\n",
       " 'Usher',\n",
       " 'Usher',\n",
       " 'The Pussycat Dolls',\n",
       " \"Destiny's Child\",\n",
       " 'OutKast']"
      ]
     },
     "execution_count": 11,
     "metadata": {},
     "output_type": "execute_result"
    }
   ],
   "source": [
    "artists[:10]"
   ]
  },
  {
   "cell_type": "code",
   "execution_count": 12,
   "metadata": {},
   "outputs": [],
   "source": [
    "from collections import Counter"
   ]
  },
  {
   "cell_type": "code",
   "execution_count": 13,
   "metadata": {},
   "outputs": [
    {
     "data": {
      "text/plain": [
       "[('Kendrick Lamar: HUMBLE.', 4562),\n",
       " ('Drake: One Dance', 4355),\n",
       " ('DRAM: Broccoli (feat. Lil Yachty)', 4105),\n",
       " ('The Chainsmokers: Closer', 4015),\n",
       " ('Post Malone: Congratulations', 3985),\n",
       " ('Aminé: Caroline', 3540),\n",
       " ('Khalid: Location', 3510),\n",
       " ('Migos: Bad and Boujee (feat. Lil Uzi Vert)', 3480),\n",
       " ('KYLE: iSpy (feat. Lil Yachty)', 3473),\n",
       " ('Lil Uzi Vert: XO TOUR Llif3', 3456)]"
      ]
     },
     "execution_count": 13,
     "metadata": {},
     "output_type": "execute_result"
    }
   ],
   "source": [
    "Counter(tracks).most_common(10)"
   ]
  },
  {
   "cell_type": "markdown",
   "metadata": {},
   "source": [
    "We see below the top 10 most common artists in all 100,000 playlists that we have sampled as well:"
   ]
  },
  {
   "cell_type": "code",
   "execution_count": 14,
   "metadata": {},
   "outputs": [
    {
     "data": {
      "text/plain": [
       "[('Drake', 85765),\n",
       " ('Kanye West', 42109),\n",
       " ('Kendrick Lamar', 34420),\n",
       " ('Rihanna', 33330),\n",
       " ('The Weeknd', 31199),\n",
       " ('Eminem', 30087),\n",
       " ('Ed Sheeran', 27154),\n",
       " ('Future', 25780),\n",
       " ('J. Cole', 24684),\n",
       " ('Justin Bieber', 23970)]"
      ]
     },
     "execution_count": 14,
     "metadata": {},
     "output_type": "execute_result"
    }
   ],
   "source": [
    "Counter(artists).most_common(10)"
   ]
  },
  {
   "cell_type": "code",
   "execution_count": null,
   "metadata": {},
   "outputs": [],
   "source": []
  },
  {
   "cell_type": "markdown",
   "metadata": {},
   "source": [
    "#### Playlist Title examination"
   ]
  },
  {
   "cell_type": "code",
   "execution_count": 15,
   "metadata": {},
   "outputs": [],
   "source": [
    "import spacy\n",
    "import nltk\n",
    "\n",
    "nlp = spacy.load('en_core_web_sm', parse=True, tag=True, entity=True)"
   ]
  },
  {
   "cell_type": "code",
   "execution_count": 16,
   "metadata": {},
   "outputs": [],
   "source": [
    "def lemmatize_text(text):\n",
    "    text = nlp(text)\n",
    "    text = ' '.join([word.lemma_ if word.lemma_ != '-PRON-' else word.text for word in text])\n",
    "    return text\n",
    "\n",
    "playlists = list(df['name'])"
   ]
  },
  {
   "cell_type": "code",
   "execution_count": 17,
   "metadata": {},
   "outputs": [
    {
     "data": {
      "text/plain": [
       "['throwback', 'Awesome Playlist', 'korean', 'mat', '90s']"
      ]
     },
     "execution_count": 17,
     "metadata": {},
     "output_type": "execute_result"
    }
   ],
   "source": [
    "playlist_lemma = []\n",
    "for i in playlists:\n",
    "    playlist_lemma.append(lemmatize_text(i))"
   ]
  },
  {
   "cell_type": "code",
   "execution_count": 1,
   "metadata": {},
   "outputs": [],
   "source": [
    "from sklearn.cluster import KMeans"
   ]
  },
  {
   "cell_type": "code",
   "execution_count": 20,
   "metadata": {},
   "outputs": [
    {
     "data": {
      "text/plain": [
       "['throwback',\n",
       " 'Awesome Playlist',\n",
       " 'korean',\n",
       " 'mat',\n",
       " '90s',\n",
       " 'wedding',\n",
       " 'I put a spell on You',\n",
       " '2017',\n",
       " 'BOP',\n",
       " 'old country']"
      ]
     },
     "execution_count": 20,
     "metadata": {},
     "output_type": "execute_result"
    }
   ],
   "source": [
    "playlist_lemma[:10]"
   ]
  },
  {
   "cell_type": "code",
   "execution_count": 8,
   "metadata": {},
   "outputs": [],
   "source": [
    "df.to_csv('data/sample.csv')"
   ]
  },
  {
   "cell_type": "code",
   "execution_count": null,
   "metadata": {},
   "outputs": [],
   "source": []
  }
 ],
 "metadata": {
  "kernelspec": {
   "display_name": "Python 3",
   "language": "python",
   "name": "python3"
  },
  "language_info": {
   "codemirror_mode": {
    "name": "ipython",
    "version": 3
   },
   "file_extension": ".py",
   "mimetype": "text/x-python",
   "name": "python",
   "nbconvert_exporter": "python",
   "pygments_lexer": "ipython3",
   "version": "3.8.3"
  }
 },
 "nbformat": 4,
 "nbformat_minor": 4
}
